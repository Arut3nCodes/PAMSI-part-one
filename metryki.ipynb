{
 "cells": [
  {
   "cell_type": "code",
   "execution_count": 11,
   "id": "71b086c4",
   "metadata": {},
   "outputs": [
    {
     "name": "stdout",
     "output_type": "stream",
     "text": [
      "\n",
      "========================================\n",
      "Metryki UDP\n",
      "========================================\n"
     ]
    },
    {
     "data": {
      "text/html": [
       "<style type=\"text/css\">\n",
       "</style>\n",
       "<table id=\"T_8831f\">\n",
       "  <thead>\n",
       "    <tr>\n",
       "      <th class=\"blank level0\" >&nbsp;</th>\n",
       "      <th id=\"T_8831f_level0_col0\" class=\"col_heading level0 col0\" >Średni Jitter Upload (ms)</th>\n",
       "      <th id=\"T_8831f_level0_col1\" class=\"col_heading level0 col1\" >Maksymalny Jitter Download (ms)</th>\n",
       "      <th id=\"T_8831f_level0_col2\" class=\"col_heading level0 col2\" >Średnia strata pakietów Upload (%)</th>\n",
       "      <th id=\"T_8831f_level0_col3\" class=\"col_heading level0 col3\" >Średnie opóźnienie (ms)</th>\n",
       "      <th id=\"T_8831f_level0_col4\" class=\"col_heading level0 col4\" >Liczba testów</th>\n",
       "      <th id=\"T_8831f_level0_col5\" class=\"col_heading level0 col5\" >Współczynnik zmienności jitter</th>\n",
       "      <th id=\"T_8831f_level0_col6\" class=\"col_heading level0 col6\" >95 percentyl opóźnień</th>\n",
       "    </tr>\n",
       "  </thead>\n",
       "  <tbody>\n",
       "    <tr>\n",
       "      <th id=\"T_8831f_level0_row0\" class=\"row_heading level0 row0\" >UDP</th>\n",
       "      <td id=\"T_8831f_row0_col0\" class=\"data row0 col0\" >3362.36</td>\n",
       "      <td id=\"T_8831f_row0_col1\" class=\"data row0 col1\" >2841873.00</td>\n",
       "      <td id=\"T_8831f_row0_col2\" class=\"data row0 col2\" >0.09</td>\n",
       "      <td id=\"T_8831f_row0_col3\" class=\"data row0 col3\" >25762.76</td>\n",
       "      <td id=\"T_8831f_row0_col4\" class=\"data row0 col4\" >2662386.00</td>\n",
       "      <td id=\"T_8831f_row0_col5\" class=\"data row0 col5\" >6.47</td>\n",
       "      <td id=\"T_8831f_row0_col6\" class=\"data row0 col6\" >51942.00</td>\n",
       "    </tr>\n",
       "  </tbody>\n",
       "</table>\n"
      ],
      "text/plain": [
       "<pandas.io.formats.style.Styler at 0x25295ff1250>"
      ]
     },
     "metadata": {},
     "output_type": "display_data"
    },
    {
     "name": "stdout",
     "output_type": "stream",
     "text": [
      "\n",
      "========================================\n",
      "Metryki HTTP\n",
      "========================================\n"
     ]
    },
    {
     "data": {
      "text/html": [
       "<style type=\"text/css\">\n",
       "</style>\n",
       "<table id=\"T_e2920\">\n",
       "  <thead>\n",
       "    <tr>\n",
       "      <th class=\"blank level0\" >&nbsp;</th>\n",
       "      <th id=\"T_e2920_level0_col0\" class=\"col_heading level0 col0\" >Śr. prędkość (MB/s)</th>\n",
       "      <th id=\"T_e2920_level0_col1\" class=\"col_heading level0 col1\" >Max prędkość (MB/s)</th>\n",
       "      <th id=\"T_e2920_level0_col2\" class=\"col_heading level0 col2\" >Śr. czas pobierania (s)</th>\n",
       "      <th id=\"T_e2920_level0_col3\" class=\"col_heading level0 col3\" >Procent testów powyżej 10 MB/s</th>\n",
       "      <th id=\"T_e2920_level0_col4\" class=\"col_heading level0 col4\" >Śr. czas wysyłania (s)</th>\n",
       "    </tr>\n",
       "  </thead>\n",
       "  <tbody>\n",
       "    <tr>\n",
       "      <th id=\"T_e2920_level0_row0\" class=\"row_heading level0 row0\" >HTTP GET</th>\n",
       "      <td id=\"T_e2920_row0_col0\" class=\"data row0 col0\" >33.45</td>\n",
       "      <td id=\"T_e2920_row0_col1\" class=\"data row0 col1\" >118.61</td>\n",
       "      <td id=\"T_e2920_row0_col2\" class=\"data row0 col2\" >10.04</td>\n",
       "      <td id=\"T_e2920_row0_col3\" class=\"data row0 col3\" >65.29</td>\n",
       "      <td id=\"T_e2920_row0_col4\" class=\"data row0 col4\" >nan</td>\n",
       "    </tr>\n",
       "    <tr>\n",
       "      <th id=\"T_e2920_level0_row1\" class=\"row_heading level0 row1\" >HTTP POST</th>\n",
       "      <td id=\"T_e2920_row1_col0\" class=\"data row1 col0\" >14.25</td>\n",
       "      <td id=\"T_e2920_row1_col1\" class=\"data row1 col1\" >119.00</td>\n",
       "      <td id=\"T_e2920_row1_col2\" class=\"data row1 col2\" >nan</td>\n",
       "      <td id=\"T_e2920_row1_col3\" class=\"data row1 col3\" >65.29</td>\n",
       "      <td id=\"T_e2920_row1_col4\" class=\"data row1 col4\" >10.00</td>\n",
       "    </tr>\n",
       "  </tbody>\n",
       "</table>\n"
      ],
      "text/plain": [
       "<pandas.io.formats.style.Styler at 0x25295f96990>"
      ]
     },
     "metadata": {},
     "output_type": "display_data"
    },
    {
     "name": "stdout",
     "output_type": "stream",
     "text": [
      "\n",
      "========================================\n",
      "Metryki Obciążenie\n",
      "========================================\n"
     ]
    },
    {
     "data": {
      "text/html": [
       "<style type=\"text/css\">\n",
       "</style>\n",
       "<table id=\"T_3df4e\">\n",
       "  <thead>\n",
       "    <tr>\n",
       "      <th class=\"blank level0\" >&nbsp;</th>\n",
       "      <th id=\"T_3df4e_level0_col0\" class=\"col_heading level0 col0\" >Śr. pobieranie Wi-Fi (MB)</th>\n",
       "      <th id=\"T_3df4e_level0_col1\" class=\"col_heading level0 col1\" >Całkowite pobieranie przewodowe (MB)</th>\n",
       "      <th id=\"T_3df4e_level0_col2\" class=\"col_heading level0 col2\" >Max wysyłanie Wi-Fi (MB)</th>\n",
       "      <th id=\"T_3df4e_level0_col3\" class=\"col_heading level0 col3\" >Stosunek Wi-Fi/Przewodowe</th>\n",
       "    </tr>\n",
       "  </thead>\n",
       "  <tbody>\n",
       "    <tr>\n",
       "      <th id=\"T_3df4e_level0_row0\" class=\"row_heading level0 row0\" >Obciążenie</th>\n",
       "      <td id=\"T_3df4e_row0_col0\" class=\"data row0 col0\" >243.83</td>\n",
       "      <td id=\"T_3df4e_row0_col1\" class=\"data row0 col1\" >331697197.41</td>\n",
       "      <td id=\"T_3df4e_row0_col2\" class=\"data row0 col2\" >35358.50</td>\n",
       "      <td id=\"T_3df4e_row0_col3\" class=\"data row0 col3\" >2.04</td>\n",
       "    </tr>\n",
       "  </tbody>\n",
       "</table>\n"
      ],
      "text/plain": [
       "<pandas.io.formats.style.Styler at 0x252903ad610>"
      ]
     },
     "metadata": {},
     "output_type": "display_data"
    }
   ],
   "source": [
    "import pandas as pd\n",
    "\n",
    "def calculate_metrics():\n",
    "    # Metryki dla UDP\n",
    "    udp_df = pd.read_csv('data/curr_udpjitter_clean.csv', parse_dates=['dtime'])\n",
    "    udp_metrics = {\n",
    "        \"UDP\": {\n",
    "            \"Średni Jitter Upload (ms)\": udp_df['jitter_up'].mean(),\n",
    "            \"Maksymalny Jitter Download (ms)\": udp_df['jitter_down'].max(),\n",
    "            \"Średnia strata pakietów Upload (%)\": (udp_df['packets_up_sent'] - udp_df['packets_up_recv']).mean() / udp_df['packets_up_sent'].mean() * 100,\n",
    "            \"Średnie opóźnienie (ms)\": udp_df['latency'].mean(),\n",
    "            \"Liczba testów\": len(udp_df),\n",
    "            \"Współczynnik zmienności jitter\": udp_df['jitter_up'].std()/udp_df['jitter_up'].mean(),\n",
    "            \"95 percentyl opóźnień\": udp_df['latency'].quantile(0.95)\n",
    "        }\n",
    "    }\n",
    "\n",
    "    # Metryki dla HTTP\n",
    "    httpget = pd.read_csv(\"data/curr_httpgetmt_clean.csv\", parse_dates=[\"dtime\"])\n",
    "    httppost = pd.read_csv(\"data/curr_httppostmt_clean.csv\", parse_dates=[\"dtime\"])\n",
    "    \n",
    "    http_metrics = {\n",
    "        \"HTTP GET\": {\n",
    "            \"Śr. prędkość (MB/s)\": httpget['bytes_sec'].mean() / 1e6,\n",
    "            \"Max prędkość (MB/s)\": httpget['bytes_sec'].max() / 1e6,\n",
    "            \"Śr. czas pobierania (s)\": httpget['fetch_time'].mean() / 1e6,\n",
    "            \"Procent testów powyżej 10 MB/s\": (httpget['bytes_sec'] > 10e6).mean()*100\n",
    "        },\n",
    "        \"HTTP POST\": {\n",
    "            \"Śr. prędkość (MB/s)\": httppost['bytes_sec'].mean() / 1e6,\n",
    "            \"Max prędkość (MB/s)\": httppost['bytes_sec'].max() / 1e6,\n",
    "            \"Śr. czas wysyłania (s)\": httppost['fetch_time'].mean() / 1e6,\n",
    "            \"Procent testów powyżej 10 MB/s\": (httpget['bytes_sec'] > 10e6).mean()*100\n",
    "        }\n",
    "    }\n",
    "\n",
    "    # Metryki dla Obciążenia\n",
    "    load_df = pd.read_csv(\"data/curr_datausage.csv\", parse_dates=[\"dtime\"])\n",
    "    load_metrics = {\n",
    "        \"Obciążenie\": {\n",
    "            \"Śr. pobieranie Wi-Fi (MB)\": load_df['cust_wifi_rx_bytes'].mean() / 1e6,\n",
    "            \"Całkowite pobieranie przewodowe (MB)\": load_df['cust_wired_rx_bytes'].sum() / 1e6,\n",
    "            \"Max wysyłanie Wi-Fi (MB)\": load_df['cust_wifi_tx_bytes'].max() / 1e6,\n",
    "            \"Stosunek Wi-Fi/Przewodowe\": (load_df['cust_wifi_rx_bytes'].sum() / load_df['cust_wired_rx_bytes'].sum()).round(2),\n",
    "        }\n",
    "    }\n",
    "    \n",
    "    return {\"UDP\": udp_metrics, \"HTTP\": http_metrics, \"Obciążenie\": load_metrics}\n",
    "\n",
    "def print_metrics(metrics):\n",
    "    for category in metrics:\n",
    "        print(f\"\\n{'='*40}\\nMetryki {category}\\n{'='*40}\")\n",
    "        df = pd.DataFrame(metrics[category]).T\n",
    "        display(df.style.format(\"{:.2f}\"))\n",
    "\n",
    "metrics = calculate_metrics()\n",
    "print_metrics(metrics)\n",
    "\n",
    "    "
   ]
  }
 ],
 "metadata": {
  "kernelspec": {
   "display_name": "venv",
   "language": "python",
   "name": "python3"
  },
  "language_info": {
   "codemirror_mode": {
    "name": "ipython",
    "version": 3
   },
   "file_extension": ".py",
   "mimetype": "text/x-python",
   "name": "python",
   "nbconvert_exporter": "python",
   "pygments_lexer": "ipython3",
   "version": "3.12.9"
  }
 },
 "nbformat": 4,
 "nbformat_minor": 5
}
