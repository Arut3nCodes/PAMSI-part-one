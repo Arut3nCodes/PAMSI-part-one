{
 "cells": [
  {
   "cell_type": "code",
   "execution_count": 1,
   "id": "71b086c4",
   "metadata": {},
   "outputs": [
    {
     "name": "stdout",
     "output_type": "stream",
     "text": [
      "\n",
      "========================================\n",
      "Metryki UDP\n",
      "========================================\n"
     ]
    },
    {
     "data": {
      "text/html": [
       "<style type=\"text/css\">\n",
       "</style>\n",
       "<table id=\"T_cd9a4\">\n",
       "  <thead>\n",
       "    <tr>\n",
       "      <th class=\"blank level0\" >&nbsp;</th>\n",
       "      <th id=\"T_cd9a4_level0_col0\" class=\"col_heading level0 col0\" >Średni Jitter Upload (ms)</th>\n",
       "      <th id=\"T_cd9a4_level0_col1\" class=\"col_heading level0 col1\" >Maksymalny Jitter Download (ms)</th>\n",
       "      <th id=\"T_cd9a4_level0_col2\" class=\"col_heading level0 col2\" >Średnia strata pakietów Upload (%)</th>\n",
       "      <th id=\"T_cd9a4_level0_col3\" class=\"col_heading level0 col3\" >Średnie opóźnienie (ms)</th>\n",
       "      <th id=\"T_cd9a4_level0_col4\" class=\"col_heading level0 col4\" >Liczba testów</th>\n",
       "    </tr>\n",
       "  </thead>\n",
       "  <tbody>\n",
       "    <tr>\n",
       "      <th id=\"T_cd9a4_level0_row0\" class=\"row_heading level0 row0\" >UDP</th>\n",
       "      <td id=\"T_cd9a4_row0_col0\" class=\"data row0 col0\" >-169997.75</td>\n",
       "      <td id=\"T_cd9a4_row0_col1\" class=\"data row0 col1\" >2841873.00</td>\n",
       "      <td id=\"T_cd9a4_row0_col2\" class=\"data row0 col2\" >0.10</td>\n",
       "      <td id=\"T_cd9a4_row0_col3\" class=\"data row0 col3\" >23918.85</td>\n",
       "      <td id=\"T_cd9a4_row0_col4\" class=\"data row0 col4\" >2688577.00</td>\n",
       "    </tr>\n",
       "  </tbody>\n",
       "</table>\n"
      ],
      "text/plain": [
       "<pandas.io.formats.style.Styler at 0x1e8d737e420>"
      ]
     },
     "metadata": {},
     "output_type": "display_data"
    },
    {
     "name": "stdout",
     "output_type": "stream",
     "text": [
      "\n",
      "========================================\n",
      "Metryki HTTP\n",
      "========================================\n"
     ]
    },
    {
     "data": {
      "text/html": [
       "<style type=\"text/css\">\n",
       "</style>\n",
       "<table id=\"T_614c5\">\n",
       "  <thead>\n",
       "    <tr>\n",
       "      <th class=\"blank level0\" >&nbsp;</th>\n",
       "      <th id=\"T_614c5_level0_col0\" class=\"col_heading level0 col0\" >Śr. prędkość (MB/s)</th>\n",
       "      <th id=\"T_614c5_level0_col1\" class=\"col_heading level0 col1\" >Max prędkość (MB/s)</th>\n",
       "      <th id=\"T_614c5_level0_col2\" class=\"col_heading level0 col2\" >Śr. czas pobierania (s)</th>\n",
       "      <th id=\"T_614c5_level0_col3\" class=\"col_heading level0 col3\" >Skuteczność (%)</th>\n",
       "      <th id=\"T_614c5_level0_col4\" class=\"col_heading level0 col4\" >Śr. czas wysyłania (s)</th>\n",
       "    </tr>\n",
       "  </thead>\n",
       "  <tbody>\n",
       "    <tr>\n",
       "      <th id=\"T_614c5_level0_row0\" class=\"row_heading level0 row0\" >HTTP GET</th>\n",
       "      <td id=\"T_614c5_row0_col0\" class=\"data row0 col0\" >33.31</td>\n",
       "      <td id=\"T_614c5_row0_col1\" class=\"data row0 col1\" >118.61</td>\n",
       "      <td id=\"T_614c5_row0_col2\" class=\"data row0 col2\" >10.00</td>\n",
       "      <td id=\"T_614c5_row0_col3\" class=\"data row0 col3\" >99.52</td>\n",
       "      <td id=\"T_614c5_row0_col4\" class=\"data row0 col4\" >nan</td>\n",
       "    </tr>\n",
       "    <tr>\n",
       "      <th id=\"T_614c5_level0_row1\" class=\"row_heading level0 row1\" >HTTP POST</th>\n",
       "      <td id=\"T_614c5_row1_col0\" class=\"data row1 col0\" >14.14</td>\n",
       "      <td id=\"T_614c5_row1_col1\" class=\"data row1 col1\" >125.22</td>\n",
       "      <td id=\"T_614c5_row1_col2\" class=\"data row1 col2\" >nan</td>\n",
       "      <td id=\"T_614c5_row1_col3\" class=\"data row1 col3\" >99.15</td>\n",
       "      <td id=\"T_614c5_row1_col4\" class=\"data row1 col4\" >9.95</td>\n",
       "    </tr>\n",
       "  </tbody>\n",
       "</table>\n"
      ],
      "text/plain": [
       "<pandas.io.formats.style.Styler at 0x1e8d72ed3d0>"
      ]
     },
     "metadata": {},
     "output_type": "display_data"
    },
    {
     "name": "stdout",
     "output_type": "stream",
     "text": [
      "\n",
      "========================================\n",
      "Metryki Obciążenie\n",
      "========================================\n"
     ]
    },
    {
     "data": {
      "text/html": [
       "<style type=\"text/css\">\n",
       "</style>\n",
       "<table id=\"T_fb5c0\">\n",
       "  <thead>\n",
       "    <tr>\n",
       "      <th class=\"blank level0\" >&nbsp;</th>\n",
       "      <th id=\"T_fb5c0_level0_col0\" class=\"col_heading level0 col0\" >Śr. pobieranie Wi-Fi (MB)</th>\n",
       "      <th id=\"T_fb5c0_level0_col1\" class=\"col_heading level0 col1\" >Całkowite pobieranie przewodowe (MB)</th>\n",
       "      <th id=\"T_fb5c0_level0_col2\" class=\"col_heading level0 col2\" >Max wysyłanie Wi-Fi (MB)</th>\n",
       "      <th id=\"T_fb5c0_level0_col3\" class=\"col_heading level0 col3\" >Stosunek Wi-Fi/Przewodowe</th>\n",
       "    </tr>\n",
       "  </thead>\n",
       "  <tbody>\n",
       "    <tr>\n",
       "      <th id=\"T_fb5c0_level0_row0\" class=\"row_heading level0 row0\" >Obciążenie</th>\n",
       "      <td id=\"T_fb5c0_row0_col0\" class=\"data row0 col0\" >243.83</td>\n",
       "      <td id=\"T_fb5c0_row0_col1\" class=\"data row0 col1\" >331697197.41</td>\n",
       "      <td id=\"T_fb5c0_row0_col2\" class=\"data row0 col2\" >35358.50</td>\n",
       "      <td id=\"T_fb5c0_row0_col3\" class=\"data row0 col3\" >2.04</td>\n",
       "    </tr>\n",
       "  </tbody>\n",
       "</table>\n"
      ],
      "text/plain": [
       "<pandas.io.formats.style.Styler at 0x1e8d74379e0>"
      ]
     },
     "metadata": {},
     "output_type": "display_data"
    }
   ],
   "source": [
    "import pandas as pd\n",
    "\n",
    "def calculate_metrics():\n",
    "    # Metryki dla UDP\n",
    "    udp_df = pd.read_csv('data/curr_udpjitter.csv', parse_dates=['dtime'])\n",
    "    udp_metrics = {\n",
    "        \"UDP\": {\n",
    "            \"Średni Jitter Upload (ms)\": udp_df['jitter_up'].mean(),\n",
    "            \"Maksymalny Jitter Download (ms)\": udp_df['jitter_down'].max(),\n",
    "            \"Średnia strata pakietów Upload (%)\": (udp_df['packets_up_sent'] - udp_df['packets_up_recv']).mean() / udp_df['packets_up_sent'].mean() * 100,\n",
    "            \"Średnie opóźnienie (ms)\": udp_df['latency'].mean(),\n",
    "            \"Liczba testów\": len(udp_df)\n",
    "        }\n",
    "    }\n",
    "\n",
    "    # Metryki dla HTTP\n",
    "    httpget = pd.read_csv(\"data/curr_httpgetmt.csv\", parse_dates=[\"dtime\"])\n",
    "    httppost = pd.read_csv(\"data/curr_httppostmt.csv\", parse_dates=[\"dtime\"])\n",
    "    \n",
    "    http_metrics = {\n",
    "        \"HTTP GET\": {\n",
    "            \"Śr. prędkość (MB/s)\": httpget['bytes_sec'].mean() / 1e6,\n",
    "            \"Max prędkość (MB/s)\": httpget['bytes_sec'].max() / 1e6,\n",
    "            \"Śr. czas pobierania (s)\": httpget['fetch_time'].mean() / 1e6,\n",
    "            \"Skuteczność (%)\": httpget['successes'].mean() * 100\n",
    "        },\n",
    "        \"HTTP POST\": {\n",
    "            \"Śr. prędkość (MB/s)\": httppost['bytes_sec'].mean() / 1e6,\n",
    "            \"Max prędkość (MB/s)\": httppost['bytes_sec'].max() / 1e6,\n",
    "            \"Śr. czas wysyłania (s)\": httppost['fetch_time'].mean() / 1e6,\n",
    "            \"Skuteczność (%)\": httppost['successes'].mean() * 100\n",
    "        }\n",
    "    }\n",
    "\n",
    "    # Metryki dla Obciążenia\n",
    "    load_df = pd.read_csv(\"data/curr_datausage.csv\", parse_dates=[\"dtime\"])\n",
    "    load_metrics = {\n",
    "        \"Obciążenie\": {\n",
    "            \"Śr. pobieranie Wi-Fi (MB)\": load_df['cust_wifi_rx_bytes'].mean() / 1e6,\n",
    "            \"Całkowite pobieranie przewodowe (MB)\": load_df['cust_wired_rx_bytes'].sum() / 1e6,\n",
    "            \"Max wysyłanie Wi-Fi (MB)\": load_df['cust_wifi_tx_bytes'].max() / 1e6,\n",
    "            \"Stosunek Wi-Fi/Przewodowe\": (load_df['cust_wifi_rx_bytes'].sum() / load_df['cust_wired_rx_bytes'].sum()).round(2)\n",
    "        }\n",
    "    }\n",
    "    \n",
    "    return {\"UDP\": udp_metrics, \"HTTP\": http_metrics, \"Obciążenie\": load_metrics}\n",
    "\n",
    "def print_metrics(metrics):\n",
    "    for category in metrics:\n",
    "        print(f\"\\n{'='*40}\\nMetryki {category}\\n{'='*40}\")\n",
    "        df = pd.DataFrame(metrics[category]).T\n",
    "        display(df.style.format(\"{:.2f}\"))\n",
    "\n",
    "metrics = calculate_metrics()\n",
    "print_metrics(metrics)\n",
    "\n",
    "    "
   ]
  }
 ],
 "metadata": {
  "kernelspec": {
   "display_name": "venv",
   "language": "python",
   "name": "python3"
  },
  "language_info": {
   "codemirror_mode": {
    "name": "ipython",
    "version": 3
   },
   "file_extension": ".py",
   "mimetype": "text/x-python",
   "name": "python",
   "nbconvert_exporter": "python",
   "pygments_lexer": "ipython3",
   "version": "3.12.9"
  }
 },
 "nbformat": 4,
 "nbformat_minor": 5
}
