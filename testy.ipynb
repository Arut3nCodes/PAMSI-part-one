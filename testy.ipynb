{
 "cells": [
  {
   "cell_type": "markdown",
   "id": "c72edc86",
   "metadata": {},
   "source": [
    "# Notatki na podstawie tego co wypluł czat:\n",
    "\n",
    "\n",
    "## Cele analizy:\n",
    "\n",
    "#### Wypływ upload na download\n",
    "    Czy wysoka aktywność uploadu (cust_wired_tx_bytes, curr_httppostmt.bytes_sec) zwiększa opóźnienia (rtt_avg z curr_ping.csv) lub utratę pakietów (curr_udploss.packets)?\n",
    "    Przykład: Wykres korelacji między cust_wired_tx_bytes a rtt_avg.    \n",
    "#### Wydajność równoczesnego uploadu i downloadu\n",
    "    Jak równoległe operacje (np. streaming + przesyłanie plików) wpływają na przepustowość.\n",
    "    Przykład: Analiza curr_httpgetmt.bytes_sec i curr_httppostmt.bytes_sec w tym samym przedziale czasowym.\n",
    "#### Jakość połączenia bezprzewodowego i przewodowego\n",
    "    Porównaj cust_wifi_rx_bytes z cust_wired_rx_bytes pod kątem stabilności (użyj curr_udpjitter.jitter_down jako metryki).\n",
    "#### Utrata pakietów a prędkość\n",
    "    Czy wyższa utrata pakietów (curr_udploss.packets) koreluje z niższą prędkością (bytes_sec w curr_httpgetmt.csv)?\n",
    "#### Analiza przepustowości w różnych porach dnia\n",
    "    Sprzwdzić czy ruch download/upload ma wyraźne wzorce czasowe\n",
    "\n"
   ]
  }
 ],
 "metadata": {
  "kernelspec": {
   "display_name": "venv",
   "language": "python",
   "name": "python3"
  },
  "language_info": {
   "name": "python",
   "version": "3.12.9"
  }
 },
 "nbformat": 4,
 "nbformat_minor": 5
}
